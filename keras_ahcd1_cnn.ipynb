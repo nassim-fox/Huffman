{
  "nbformat": 4,
  "nbformat_minor": 0,
  "metadata": {
    "kernelspec": {
      "name": "python3",
      "display_name": "Python 3"
    },
    "language_info": {
      "codemirror_mode": {
        "name": "ipython",
        "version": 3
      },
      "file_extension": ".py",
      "mimetype": "text/x-python",
      "name": "python",
      "nbconvert_exporter": "python",
      "pygments_lexer": "ipython3",
      "version": "3.6.2"
    },
    "colab": {
      "name": "keras_ahcd1_cnn.ipynb",
      "provenance": [],
      "include_colab_link": true
    },
    "accelerator": "GPU"
  },
  "cells": [
    {
      "cell_type": "markdown",
      "metadata": {
        "id": "view-in-github",
        "colab_type": "text"
      },
      "source": [
        "<a href=\"https://colab.research.google.com/github/nassim-fox/Huffman/blob/master/keras_ahcd1_cnn.ipynb\" target=\"_parent\"><img src=\"https://colab.research.google.com/assets/colab-badge.svg\" alt=\"Open In Colab\"/></a>"
      ]
    },
    {
      "cell_type": "code",
      "metadata": {
        "id": "RUNRVlCHG73T",
        "colab_type": "code",
        "colab": {}
      },
      "source": [
        "\n",
        "import tensorflow as tf\n",
        "\n",
        "import numpy as np\n",
        "import pandas as pd\n",
        "from matplotlib import pyplot as p\n",
        "\n"
      ],
      "execution_count": 0,
      "outputs": []
    },
    {
      "cell_type": "code",
      "metadata": {
        "id": "kk8bSddOG73X",
        "colab_type": "code",
        "colab": {}
      },
      "source": [
        "#Loading the dataset\n",
        "\n",
        "x_train = pd.read_csv('csvTrainImages 13440x1024.csv')\n",
        "y_train = pd.read_csv('csvTrainLabel 13440x1.csv')\n",
        "x_test = pd.read_csv('csvTestImages 3360x1024.csv')\n",
        "y_test = pd.read_csv('csvTestLabel 3360x1.csv')\n"
      ],
      "execution_count": 0,
      "outputs": []
    },
    {
      "cell_type": "code",
      "metadata": {
        "id": "mnHwHVIxG73c",
        "colab_type": "code",
        "colab": {}
      },
      "source": [
        "x_train = np.asarray(x_train).reshape(x_train.shape[0],32,32,1)\n",
        "x_test = np.asarray(x_test).reshape(x_test.shape[0],32,32,1)\n"
      ],
      "execution_count": 0,
      "outputs": []
    },
    {
      "cell_type": "code",
      "metadata": {
        "id": "Iv1760utG73f",
        "colab_type": "code",
        "colab": {}
      },
      "source": [
        "#scaling x in range [0,1] \n",
        "x_train_scaled = (x_train - np.min(x_train)) / (np.max(x_train) - np.min(x_train)) \n",
        "x_test_scaled = (x_test - np.min(x_test)) / (np.max(x_test) - np.min(x_test)) \n",
        "\n",
        "#onehot encoding for labels\n",
        "y_train_labels = tf.keras.utils.to_categorical(y_train) \n",
        "y_test_labels = tf.keras.utils.to_categorical(y_test) \n"
      ],
      "execution_count": 0,
      "outputs": []
    },
    {
      "cell_type": "code",
      "metadata": {
        "id": "3GgmLsFdG73k",
        "colab_type": "code",
        "colab": {
          "base_uri": "https://localhost:8080/",
          "height": 286
        },
        "outputId": "d7f6c142-ddbe-41d1-9b51-6843aa537793"
      },
      "source": [
        "\n",
        "im = np.asarray(x_train[0]).reshape(32,32).T\n",
        "#print(im.shape)\n",
        "\n",
        "i = \"\\xd9\\x88\"\n",
        "print(i.encode('latin-1').decode('utf8'))\n",
        "\n",
        "p.imshow(im,cmap='binary')\n",
        "p.show()"
      ],
      "execution_count": 32,
      "outputs": [
        {
          "output_type": "stream",
          "text": [
            "و\n"
          ],
          "name": "stdout"
        },
        {
          "output_type": "display_data",
          "data": {
            "image/png": "[encoded data removed]",
            "text/plain": [
              "<Figure size 432x288 with 1 Axes>"
            ]
          },
          "metadata": {
            "tags": []
          }
        }
      ]
    },
    {
      "cell_type": "code",
      "metadata": {
        "id": "QP8DM1r8G73o",
        "colab_type": "code",
        "colab": {}
      },
      "source": [
        "alph = list('ابتثجحخدذرزسشصضطظعغفقكلمنهوي')"
      ],
      "execution_count": 0,
      "outputs": []
    },
    {
      "cell_type": "code",
      "metadata": {
        "id": "H7ID9dxWG73q",
        "colab_type": "code",
        "colab": {}
      },
      "source": [
        "#building the model\n",
        "\n",
        "model = tf.keras.Sequential()\n",
        "\n",
        "model.add(tf.keras.layers.Conv2D(32,kernel_size=(5,5),input_shape=(32,32,1),padding='same',activation=\"relu\"))\n",
        "model.add(tf.keras.layers.MaxPooling2D(pool_size=(2,2)))\n",
        "model.add(tf.keras.layers.Conv2D(64,kernel_size=(5,5),padding='same',activation=\"relu\"))\n",
        "model.add(tf.keras.layers.MaxPooling2D(pool_size=(2,2)))\n",
        "model.add(tf.keras.layers.Flatten())\n",
        "model.add(tf.keras.layers.Dense(1024))\n",
        "model.add(tf.keras.layers.LeakyReLU(alpha=0.2))\n",
        "model.add(tf.keras.layers.Dropout(0.2))\n",
        "model.add(tf.keras.layers.Dense(29,activation='softmax'))"
      ],
      "execution_count": 0,
      "outputs": []
    },
    {
      "cell_type": "code",
      "metadata": {
        "id": "DgDBttWBG73t",
        "colab_type": "code",
        "colab": {}
      },
      "source": [
        "model.compile(optimizer='adam',loss='categorical_crossentropy',metrics=['accuracy'])"
      ],
      "execution_count": 0,
      "outputs": []
    },
    {
      "cell_type": "code",
      "metadata": {
        "id": "uILPxr-sG73v",
        "colab_type": "code",
        "colab": {
          "base_uri": "https://localhost:8080/",
          "height": 411
        },
        "outputId": "94cd6fd1-6b89-437e-898f-35ececac45d1"
      },
      "source": [
        "model.fit(x_train_scaled,y_train_labels,epochs=10,validation_data=(x_test_scaled,y_test_labels))"
      ],
      "execution_count": 69,
      "outputs": [
        {
          "output_type": "stream",
          "text": [
            "Train on 13439 samples, validate on 3359 samples\n",
            "Epoch 1/10\n",
            "13439/13439 [==============================] - 5s 372us/sample - loss: 1.0377 - acc: 0.6747 - val_loss: 0.4285 - val_acc: 0.8622\n",
            "Epoch 2/10\n",
            "13439/13439 [==============================] - 4s 327us/sample - loss: 0.3120 - acc: 0.8993 - val_loss: 0.2983 - val_acc: 0.9092\n",
            "Epoch 3/10\n",
            "13439/13439 [==============================] - 4s 321us/sample - loss: 0.1762 - acc: 0.9415 - val_loss: 0.2664 - val_acc: 0.9229\n",
            "Epoch 4/10\n",
            "13439/13439 [==============================] - 4s 325us/sample - loss: 0.1212 - acc: 0.9594 - val_loss: 0.2085 - val_acc: 0.9360\n",
            "Epoch 5/10\n",
            "13439/13439 [==============================] - 4s 321us/sample - loss: 0.0816 - acc: 0.9722 - val_loss: 0.2315 - val_acc: 0.9390\n",
            "Epoch 6/10\n",
            "13439/13439 [==============================] - 4s 318us/sample - loss: 0.0648 - acc: 0.9784 - val_loss: 0.3035 - val_acc: 0.9265\n",
            "Epoch 7/10\n",
            "13439/13439 [==============================] - 4s 312us/sample - loss: 0.0528 - acc: 0.9819 - val_loss: 0.2597 - val_acc: 0.9411\n",
            "Epoch 8/10\n",
            "13439/13439 [==============================] - 4s 323us/sample - loss: 0.0502 - acc: 0.9838 - val_loss: 0.2600 - val_acc: 0.9354\n",
            "Epoch 9/10\n",
            "13439/13439 [==============================] - 4s 314us/sample - loss: 0.0514 - acc: 0.9826 - val_loss: 0.2641 - val_acc: 0.9422\n",
            "Epoch 10/10\n",
            "13439/13439 [==============================] - 4s 316us/sample - loss: 0.0429 - acc: 0.9863 - val_loss: 0.2470 - val_acc: 0.9419\n"
          ],
          "name": "stdout"
        },
        {
          "output_type": "execute_result",
          "data": {
            "text/plain": [
              "<tensorflow.python.keras.callbacks.History at 0x7f9510eb7940>"
            ]
          },
          "metadata": {
            "tags": []
          },
          "execution_count": 69
        }
      ]
    },
    {
      "cell_type": "code",
      "metadata": {
        "id": "u1ZNosWKhyrt",
        "colab_type": "code",
        "colab": {
          "base_uri": "https://localhost:8080/",
          "height": 51
        },
        "outputId": "b720a383-4803-4a08-ef39-c402a6589224"
      },
      "source": [
        "score = model.evaluate(x_test_scaled, y_test_labels, verbose=0)\n",
        "print('Test loss:', score[0]) \n",
        "print('Test accuracy:', score[1]) "
      ],
      "execution_count": 70,
      "outputs": [
        {
          "output_type": "stream",
          "text": [
            "Test loss: 0.24697963198650785\n",
            "Test accuracy: 0.941947\n"
          ],
          "name": "stdout"
        }
      ]
    },
    {
      "cell_type": "code",
      "metadata": {
        "id": "LCdz6outG73x",
        "colab_type": "code",
        "colab": {}
      },
      "source": [
        "prediction = model.predict(x_test_scaled)"
      ],
      "execution_count": 0,
      "outputs": []
    },
    {
      "cell_type": "code",
      "metadata": {
        "id": "NX2V67EbG73z",
        "colab_type": "code",
        "colab": {
          "base_uri": "https://localhost:8080/",
          "height": 410
        },
        "outputId": "c32662fa-1199-4b74-c245-7cbfe6a4c4e7"
      },
      "source": [
        "ax = [0,0,0,0,0,0,0,0,0,0]\n",
        "f, ((ax[0] ,ax[1] , ax[2], ax[3], ax[4]),( ax[5],ax[6] ,ax[7], ax[8], ax[9])) = p.subplots(2,5)\n",
        "\n",
        "r = np.random.randint(100,size=(1,10))[0]\n",
        "\n",
        "for i in range(10) : \n",
        "    ax[i].imshow(x_test[r[i]].reshape(32,32).T,cmap='binary')\n",
        "    ax[i].set_title('{}'.format(i))\n",
        "    print(\"predicted {} :  \".format(i)+alph[np.argmax(prediction[r[i]])-1])\n",
        "    ax[i].axis(\"off\")\n"
      ],
      "execution_count": 121,
      "outputs": [
        {
          "output_type": "stream",
          "text": [
            "predicted 0 :  ك\n",
            "predicted 1 :  ي\n",
            "predicted 2 :  ط\n",
            "predicted 3 :  س\n",
            "predicted 4 :  ج\n",
            "predicted 5 :  د\n",
            "predicted 6 :  ط\n",
            "predicted 7 :  د\n",
            "predicted 8 :  ق\n",
            "predicted 9 :  ش\n"
          ],
          "name": "stdout"
        },
        {
          "output_type": "display_data",
          "data": {
            "image/png": "[encoded data removed]",
            "text/plain": [
              "<Figure size 432x288 with 10 Axes>"
            ]
          },
          "metadata": {
            "tags": []
          }
        }
      ]
    },
    {
      "cell_type": "code",
      "metadata": {
        "id": "Kf9kSPohG732",
        "colab_type": "code",
        "colab": {}
      },
      "source": [
        "\n",
        "model_json = model.to_json()\n",
        "\n",
        "with open(\"model.json\", \"w\") as json_file:\n",
        "    json_file.write(model_json)\n",
        "    \n",
        "\n",
        "model.save_weights(\"model.h5\")"
      ],
      "execution_count": 0,
      "outputs": []
    },
    {
      "cell_type": "code",
      "metadata": {
        "id": "XlP2IMa8G734",
        "colab_type": "code",
        "colab": {}
      },
      "source": [
        ""
      ],
      "execution_count": 0,
      "outputs": []
    }
  ]
}